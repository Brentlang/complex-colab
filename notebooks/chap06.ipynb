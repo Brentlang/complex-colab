{
  "nbformat": 4,
  "nbformat_minor": 0,
  "metadata": {
    "kernelspec": {
      "display_name": "Python 3.8.3 32-bit",
      "language": "python",
      "name": "python_defaultSpec_1593786317828"
    },
    "language_info": {
      "codemirror_mode": {
        "name": "ipython",
        "version": 3
      },
      "file_extension": ".py",
      "mimetype": "text/x-python",
      "name": "python",
      "nbconvert_exporter": "python",
      "pygments_lexer": "ipython3",
      "version": "3.7.6"
    },
    "colab": {
      "name": "chap06.ipynb",
      "provenance": []
    }
  },
  "cells": [
    {
      "cell_type": "markdown",
      "metadata": {
        "id": "vALEgjgizzdP"
      },
      "source": [
        "# Scale-Free Networks\n",
        "\n",
        "Code examples from [Think Complexity, 2nd edition](https://thinkcomplex.com).\n",
        "\n",
        "Copyright 2016 Allen Downey, [MIT License](http://opensource.org/licenses/MIT)\n",
        "\n",
        "Please note that if you are using google colab you will need to drag and drop the data files into your colab directory under a new folder with the name \"data\" (you have to make this folder). "
      ]
    },
    {
      "cell_type": "code",
      "metadata": {
        "tags": [],
        "id": "NhrRatJIzzdQ",
        "outputId": "85fc0110-3b27-48d1-c8e6-fbf08eec7db0",
        "colab": {
          "base_uri": "https://localhost:8080/"
        }
      },
      "source": [
        "\n",
        "import os\n",
        "if not os.path.exists('complex-colab'):\n",
        "    !git clone https://github.com/pearcej/complex-colab.git\n",
        "\n",
        "if not os.path.exists('utils.py'):\n",
        "    !wget https://raw.githubusercontent.com/AllenDowney/ThinkComplexity2/master/notebooks/utils.py\n",
        "\n",
        "%matplotlib inline\n",
        "\n",
        "import sys\n",
        "IN_COLAB = 'google.colab' in sys.modules\n",
        "\n",
        "if IN_COLAB:\n",
        "    !pip install empiricaldist\n",
        "\n",
        "import matplotlib.pyplot as plt\n",
        "import networkx as nx\n",
        "import numpy as np\n",
        "import seaborn as sns\n",
        "\n",
        "from utils import decorate\n",
        "\n",
        "# I set the random seed so the notebook \n",
        "# produces the same results every time.\n",
        "np.random.seed(17)\n",
        "\n",
        "# TODO: remove this when NetworkX is fixed\n",
        "from warnings import simplefilter\n",
        "import matplotlib.cbook\n",
        "simplefilter(\"ignore\", matplotlib.cbook.mplDeprecation)"
      ],
      "execution_count": 24,
      "outputs": [
        {
          "output_type": "stream",
          "text": [
            "Collecting empiricaldist\n",
            "  Downloading https://files.pythonhosted.org/packages/c4/88/b6c44c1a5078224850473a8a6b82614d79147232113dd35e29de34b9ac8a/empiricaldist-0.3.9.tar.gz\n",
            "Building wheels for collected packages: empiricaldist\n",
            "  Building wheel for empiricaldist (setup.py) ... \u001b[?25l\u001b[?25hdone\n",
            "  Created wheel for empiricaldist: filename=empiricaldist-0.3.9-cp36-none-any.whl size=10157 sha256=eb327254896b7fa07e6dc9f51fb007d909a9ce8b6f8ea4b5b8895f317dbea768\n",
            "  Stored in directory: /root/.cache/pip/wheels/bf/70/8c/55788f5a5806e6da295e5da80d2c0ef286d9a8260a1e3142e1\n",
            "Successfully built empiricaldist\n",
            "Installing collected packages: empiricaldist\n",
            "Successfully installed empiricaldist-0.3.9\n"
          ],
          "name": "stdout"
        }
      ]
    },
    {
      "cell_type": "markdown",
      "metadata": {
        "id": "TJiS-F9RzzdV"
      },
      "source": [
        "## Facebook data"
      ]
    },
    {
      "cell_type": "markdown",
      "metadata": {
        "id": "erejuo3kzzdV"
      },
      "source": [
        "The following function reads a file with one edge per line, specified by two integer node IDs.'\n",
        "Please note that if you are using google colab you will need to drag and drop the data files into your colab directory under a new folder with the name \"data\" (you have to make this folder). "
      ]
    },
    {
      "cell_type": "code",
      "metadata": {
        "id": "X0Rg-kqmzzdW"
      },
      "source": [
        "def read_graph(filename):\n",
        "    G = nx.Graph()\n",
        "    array = np.loadtxt(filename, dtype=int)\n",
        "    G.add_edges_from(array)\n",
        "    return G"
      ],
      "execution_count": 25,
      "outputs": []
    },
    {
      "cell_type": "markdown",
      "metadata": {
        "id": "_V3a0jQAzzdY"
      },
      "source": [
        "We'll read the Facecook data downloaded from [SNAP](https://snap.stanford.edu/data/egonets-Facebook.html)"
      ]
    },
    {
      "cell_type": "code",
      "metadata": {
        "id": "hEwlSOqBzzdZ",
        "outputId": "a5ea2b36-e19c-4f33-f538-cf710020775c",
        "colab": {
          "base_uri": "https://localhost:8080/"
        }
      },
      "source": [
        "# https://snap.stanford.edu/data/facebook_combined.txt.gz\n",
        "\n",
        "fb = read_graph('complex-colab/data/facebook_combined.txt.gz')\n",
        "n = len(fb)\n",
        "m = len(fb.edges())\n",
        "n, m"
      ],
      "execution_count": 26,
      "outputs": [
        {
          "output_type": "execute_result",
          "data": {
            "text/plain": [
              "(4039, 88234)"
            ]
          },
          "metadata": {
            "tags": []
          },
          "execution_count": 26
        }
      ]
    },
    {
      "cell_type": "markdown",
      "metadata": {
        "id": "OXPh29uSzzde"
      },
      "source": [
        "With larger graphs, it takes too long to compute clustering coefficients and path lengths, but we can estimate them by sampling.  NetworkX provides a function in its approximation module that estimates the clustering coefficient:"
      ]
    },
    {
      "cell_type": "code",
      "metadata": {
        "id": "pIRja-wuzzde"
      },
      "source": [
        "from networkx.algorithms.approximation import average_clustering"
      ],
      "execution_count": 27,
      "outputs": []
    },
    {
      "cell_type": "markdown",
      "metadata": {
        "id": "QTTwpgCqzzdi"
      },
      "source": [
        "And I've written a function that estimates the average path length."
      ]
    },
    {
      "cell_type": "code",
      "metadata": {
        "id": "hhco0N1Wzzdj"
      },
      "source": [
        "def sample_path_lengths(G, nodes=None, trials=1000):\n",
        "    \"\"\"Choose random pairs of nodes and compute the path length between them.\n",
        "\n",
        "    G: Graph\n",
        "    nodes: list of nodes to choose from\n",
        "    trials: number of pairs to choose\n",
        "\n",
        "    returns: list of path lengths\n",
        "    \"\"\"\n",
        "    if nodes is None:\n",
        "        nodes = list(G)\n",
        "    else:\n",
        "        nodes = list(nodes)\n",
        "        \n",
        "    pairs = np.random.choice(nodes, (trials, 2))\n",
        "    lengths = [nx.shortest_path_length(G, *pair) \n",
        "               for pair in pairs]\n",
        "    return lengths\n",
        "\n",
        "def estimate_path_length(G, nodes=None, trials=1000):\n",
        "    return np.mean(sample_path_lengths(G, nodes, trials))"
      ],
      "execution_count": 28,
      "outputs": []
    },
    {
      "cell_type": "markdown",
      "metadata": {
        "id": "cKWspdMdzzdl"
      },
      "source": [
        "The average clustering coefficient is high."
      ]
    },
    {
      "cell_type": "code",
      "metadata": {
        "id": "K32YmnWEzzdm",
        "outputId": "b7771b49-9350-455e-a0ec-43c345ab9c42",
        "colab": {
          "base_uri": "https://localhost:8080/"
        }
      },
      "source": [
        "C = average_clustering(fb)\n",
        "C"
      ],
      "execution_count": 29,
      "outputs": [
        {
          "output_type": "execute_result",
          "data": {
            "text/plain": [
              "0.612"
            ]
          },
          "metadata": {
            "tags": []
          },
          "execution_count": 29
        }
      ]
    },
    {
      "cell_type": "markdown",
      "metadata": {
        "id": "H__voROXzzdp"
      },
      "source": [
        "The average path length is low."
      ]
    },
    {
      "cell_type": "code",
      "metadata": {
        "id": "7cHK2HNpzzdp",
        "outputId": "a09fbb34-a052-4e3a-f615-6272838c5a7a",
        "colab": {
          "base_uri": "https://localhost:8080/"
        }
      },
      "source": [
        "L = estimate_path_length(fb)\n",
        "L"
      ],
      "execution_count": 30,
      "outputs": [
        {
          "output_type": "execute_result",
          "data": {
            "text/plain": [
              "3.717"
            ]
          },
          "metadata": {
            "tags": []
          },
          "execution_count": 30
        }
      ]
    },
    {
      "cell_type": "markdown",
      "metadata": {
        "id": "m4eI_fYczzds"
      },
      "source": [
        "## WS Graph"
      ]
    },
    {
      "cell_type": "markdown",
      "metadata": {
        "id": "FVDYSfBlzzdt"
      },
      "source": [
        "Next I'll construct a WS graph with the same number of nodes and average degree as the Facebook network:"
      ]
    },
    {
      "cell_type": "code",
      "metadata": {
        "id": "woofNkxhzzdt",
        "outputId": "016655bc-dfcc-4345-abcd-e9c7757b8211",
        "colab": {
          "base_uri": "https://localhost:8080/"
        }
      },
      "source": [
        "n = len(fb)\n",
        "m = len(fb.edges())\n",
        "k = int(round(2*m/n))\n",
        "k"
      ],
      "execution_count": 31,
      "outputs": [
        {
          "output_type": "execute_result",
          "data": {
            "text/plain": [
              "44"
            ]
          },
          "metadata": {
            "tags": []
          },
          "execution_count": 31
        }
      ]
    },
    {
      "cell_type": "markdown",
      "metadata": {
        "id": "TAZ8BVrtzzdv"
      },
      "source": [
        "With `p=0` we get a ring lattice.\n",
        "\n",
        "The number of edges is a little bigger than in the dataset because we have to round `k` to an integer."
      ]
    },
    {
      "cell_type": "code",
      "metadata": {
        "id": "CwupiOTPzzdw",
        "outputId": "7ac59815-5e28-422d-fdff-d8e7abc1773f",
        "colab": {
          "base_uri": "https://localhost:8080/"
        }
      },
      "source": [
        "lattice = nx.watts_strogatz_graph(n, k, p=0)\n",
        "len(lattice), len(lattice.edges())"
      ],
      "execution_count": 32,
      "outputs": [
        {
          "output_type": "execute_result",
          "data": {
            "text/plain": [
              "(4039, 88858)"
            ]
          },
          "metadata": {
            "tags": []
          },
          "execution_count": 32
        }
      ]
    },
    {
      "cell_type": "markdown",
      "metadata": {
        "id": "gcdoW-utzzdy"
      },
      "source": [
        "The clustering coefficient is a little higher than in the dataset."
      ]
    },
    {
      "cell_type": "code",
      "metadata": {
        "id": "64EOxOfezzdz",
        "outputId": "82d3f63f-447e-46bd-e4d9-fc84943d8b53",
        "colab": {
          "base_uri": "https://localhost:8080/"
        }
      },
      "source": [
        "C, average_clustering(lattice)"
      ],
      "execution_count": 33,
      "outputs": [
        {
          "output_type": "execute_result",
          "data": {
            "text/plain": [
              "(0.612, 0.722)"
            ]
          },
          "metadata": {
            "tags": []
          },
          "execution_count": 33
        }
      ]
    },
    {
      "cell_type": "markdown",
      "metadata": {
        "id": "N5C5Ox0xzzd1"
      },
      "source": [
        "And the path length is much higher."
      ]
    },
    {
      "cell_type": "code",
      "metadata": {
        "id": "58Jukhm0zzd1",
        "outputId": "b4f1ee76-ab8d-4e13-87c2-59d6455678ad",
        "colab": {
          "base_uri": "https://localhost:8080/"
        }
      },
      "source": [
        "L, estimate_path_length(lattice)"
      ],
      "execution_count": 34,
      "outputs": [
        {
          "output_type": "execute_result",
          "data": {
            "text/plain": [
              "(3.717, 47.088)"
            ]
          },
          "metadata": {
            "tags": []
          },
          "execution_count": 34
        }
      ]
    },
    {
      "cell_type": "markdown",
      "metadata": {
        "id": "S58Q6mWEzzd4"
      },
      "source": [
        "With `p=1` we get a random graph."
      ]
    },
    {
      "cell_type": "code",
      "metadata": {
        "id": "PDmPg8v7zzd5"
      },
      "source": [
        "random_graph = nx.watts_strogatz_graph(n, k, p=1)"
      ],
      "execution_count": 35,
      "outputs": []
    },
    {
      "cell_type": "markdown",
      "metadata": {
        "id": "4hTlV7g_zzd7"
      },
      "source": [
        "The clustering coefficient is small."
      ]
    },
    {
      "cell_type": "code",
      "metadata": {
        "id": "KQDpK13qzzd7",
        "outputId": "db30e590-dd09-4949-911b-de05f72f9b4f",
        "colab": {
          "base_uri": "https://localhost:8080/"
        }
      },
      "source": [
        "C, average_clustering(random_graph)"
      ],
      "execution_count": 36,
      "outputs": [
        {
          "output_type": "execute_result",
          "data": {
            "text/plain": [
              "(0.612, 0.014)"
            ]
          },
          "metadata": {
            "tags": []
          },
          "execution_count": 36
        }
      ]
    },
    {
      "cell_type": "markdown",
      "metadata": {
        "id": "FjthTRiHzzd-"
      },
      "source": [
        "And the path lengths are very small."
      ]
    },
    {
      "cell_type": "code",
      "metadata": {
        "id": "kt5YveEbzzd_",
        "outputId": "85a01bf6-2ebb-45c9-edec-fe8bdf6b305e",
        "colab": {
          "base_uri": "https://localhost:8080/"
        }
      },
      "source": [
        "L, estimate_path_length(random_graph)"
      ],
      "execution_count": 37,
      "outputs": [
        {
          "output_type": "execute_result",
          "data": {
            "text/plain": [
              "(3.717, 2.618)"
            ]
          },
          "metadata": {
            "tags": []
          },
          "execution_count": 37
        }
      ]
    },
    {
      "cell_type": "markdown",
      "metadata": {
        "id": "_2ZZ0O2uzzeC"
      },
      "source": [
        "By trial and error, I found that `p=0.05` yields a graph with about the right values for `C` and `L`."
      ]
    },
    {
      "cell_type": "code",
      "metadata": {
        "id": "X7iAN_h6zzeE"
      },
      "source": [
        "ws = nx.watts_strogatz_graph(n, k, 0.05, seed=15)"
      ],
      "execution_count": 38,
      "outputs": []
    },
    {
      "cell_type": "markdown",
      "metadata": {
        "id": "lOqrc5mJzzeG"
      },
      "source": [
        "The clustering coefficient is a little higher than in the data."
      ]
    },
    {
      "cell_type": "code",
      "metadata": {
        "id": "QbNsdbYYzzeG",
        "outputId": "37e75320-d0c6-4053-dbf3-bf8f475b2d37",
        "colab": {
          "base_uri": "https://localhost:8080/"
        }
      },
      "source": [
        "C, average_clustering(ws)"
      ],
      "execution_count": 39,
      "outputs": [
        {
          "output_type": "execute_result",
          "data": {
            "text/plain": [
              "(0.612, 0.631)"
            ]
          },
          "metadata": {
            "tags": []
          },
          "execution_count": 39
        }
      ]
    },
    {
      "cell_type": "markdown",
      "metadata": {
        "id": "N6C78cNDzzeI"
      },
      "source": [
        "And the path length is a little lower."
      ]
    },
    {
      "cell_type": "code",
      "metadata": {
        "id": "tBJXC-92zzeJ",
        "outputId": "e7b511a0-1460-443e-e4ad-c6856f5c5e11",
        "colab": {
          "base_uri": "https://localhost:8080/"
        }
      },
      "source": [
        "L, estimate_path_length(ws)"
      ],
      "execution_count": 40,
      "outputs": [
        {
          "output_type": "execute_result",
          "data": {
            "text/plain": [
              "(3.717, 3.264)"
            ]
          },
          "metadata": {
            "tags": []
          },
          "execution_count": 40
        }
      ]
    },
    {
      "cell_type": "markdown",
      "metadata": {
        "id": "bD8qbOCbzzeM"
      },
      "source": [
        "So that seems good so far."
      ]
    },
    {
      "cell_type": "markdown",
      "metadata": {
        "collapsed": true,
        "id": "pKEPZbXgzzeM"
      },
      "source": [
        "## Degree"
      ]
    },
    {
      "cell_type": "markdown",
      "metadata": {
        "id": "WCxbt44gzzeN"
      },
      "source": [
        "But let's look at the degree distribution.\n",
        "\n",
        "The following function returns a list of degrees, one for each node:"
      ]
    },
    {
      "cell_type": "code",
      "metadata": {
        "id": "FtnKdx_AzzeN"
      },
      "source": [
        "def degrees(G):\n",
        "    \"\"\"List of degrees for nodes in `G`.\n",
        "    \n",
        "    G: Graph object\n",
        "    \n",
        "    returns: list of int\n",
        "    \"\"\"\n",
        "    return [G.degree(u) for u in G]"
      ],
      "execution_count": 41,
      "outputs": []
    },
    {
      "cell_type": "markdown",
      "metadata": {
        "id": "EKCta_ZczzeP"
      },
      "source": [
        "The average degree in the WS model is about right."
      ]
    },
    {
      "cell_type": "code",
      "metadata": {
        "id": "eppUg52azzeP",
        "outputId": "9d5dcdb3-5b48-4b32-ba33-679174e26ca3",
        "colab": {
          "base_uri": "https://localhost:8080/"
        }
      },
      "source": [
        "np.mean(degrees(fb)), np.mean(degrees(ws))"
      ],
      "execution_count": 42,
      "outputs": [
        {
          "output_type": "execute_result",
          "data": {
            "text/plain": [
              "(43.69101262688784, 44.0)"
            ]
          },
          "metadata": {
            "tags": []
          },
          "execution_count": 42
        }
      ]
    },
    {
      "cell_type": "markdown",
      "metadata": {
        "id": "r-msGdnlzzeR"
      },
      "source": [
        "But the standard deviation isn't even close:"
      ]
    },
    {
      "cell_type": "code",
      "metadata": {
        "id": "mUz2OG5NzzeS",
        "outputId": "61a7082d-f0fa-4155-ae65-23a68a551cea",
        "colab": {
          "base_uri": "https://localhost:8080/"
        }
      },
      "source": [
        "np.std(degrees(fb)), np.std(degrees(ws))"
      ],
      "execution_count": 43,
      "outputs": [
        {
          "output_type": "execute_result",
          "data": {
            "text/plain": [
              "(52.41411556737521, 1.4309215628189869)"
            ]
          },
          "metadata": {
            "tags": []
          },
          "execution_count": 43
        }
      ]
    },
    {
      "cell_type": "markdown",
      "metadata": {
        "id": "2hYhxY9WzzeU"
      },
      "source": [
        "To see what's going on, we need to look at the whole distribution.\n",
        "\n",
        "I'll start with a very small graph:"
      ]
    },
    {
      "cell_type": "code",
      "metadata": {
        "id": "DDJDYFHizzeU",
        "outputId": "866a5ca1-7941-4b89-dc45-4f004d11967b",
        "colab": {
          "base_uri": "https://localhost:8080/",
          "height": 319
        }
      },
      "source": [
        "G = nx.Graph()\n",
        "G.add_edge(1, 0)\n",
        "G.add_edge(2, 0)\n",
        "G.add_edge(3, 0)\n",
        "nx.draw(G)"
      ],
      "execution_count": 44,
      "outputs": [
        {
          "output_type": "display_data",
          "data": {
            "image/png": "[encoded data removed]",
            "text/plain": [
              "<Figure size 432x288 with 1 Axes>"
            ]
          },
          "metadata": {
            "tags": []
          }
        }
      ]
    },
    {
      "cell_type": "markdown",
      "metadata": {
        "id": "lf2_bqGizzeX"
      },
      "source": [
        "Here's what the list of degrees looks like for this graph:"
      ]
    },
    {
      "cell_type": "code",
      "metadata": {
        "id": "jamB-177zzeX",
        "outputId": "46b8c899-36cb-44b7-865b-f61d5587be7d",
        "colab": {
          "base_uri": "https://localhost:8080/"
        }
      },
      "source": [
        "degrees(G)"
      ],
      "execution_count": 45,
      "outputs": [
        {
          "output_type": "execute_result",
          "data": {
            "text/plain": [
              "[1, 3, 1, 1]"
            ]
          },
          "metadata": {
            "tags": []
          },
          "execution_count": 45
        }
      ]
    },
    {
      "cell_type": "markdown",
      "metadata": {
        "id": "xQxMqZttzzea"
      },
      "source": [
        "To compute the degree distribution, I'll use the `Pmf` class from `empiricaldist`"
      ]
    },
    {
      "cell_type": "code",
      "metadata": {
        "id": "s9aHzl4Vzzeb"
      },
      "source": [
        "from empiricaldist import Pmf"
      ],
      "execution_count": 46,
      "outputs": []
    },
    {
      "cell_type": "markdown",
      "metadata": {
        "id": "fkhmquX0zzed"
      },
      "source": [
        "A `Pmf` object maps from each degree to the fraction of nodes with that degree."
      ]
    },
    {
      "cell_type": "code",
      "metadata": {
        "id": "PrFltrlwzzed",
        "outputId": "ad0a51ea-a959-4f42-b1e7-2febdc8b23b0",
        "colab": {
          "base_uri": "https://localhost:8080/",
          "height": 106
        }
      },
      "source": [
        "pmf = Pmf.from_seq(degrees(G))\n",
        "pmf"
      ],
      "execution_count": 47,
      "outputs": [
        {
          "output_type": "execute_result",
          "data": {
            "text/html": [
              "<div>\n",
              "<style scoped>\n",
              "    .dataframe tbody tr th:only-of-type {\n",
              "        vertical-align: middle;\n",
              "    }\n",
              "\n",
              "    .dataframe tbody tr th {\n",
              "        vertical-align: top;\n",
              "    }\n",
              "\n",
              "    .dataframe thead th {\n",
              "        text-align: right;\n",
              "    }\n",
              "</style>\n",
              "<table border=\"1\" class=\"dataframe\">\n",
              "  <thead>\n",
              "    <tr style=\"text-align: right;\">\n",
              "      <th></th>\n",
              "      <th>probs</th>\n",
              "    </tr>\n",
              "  </thead>\n",
              "  <tbody>\n",
              "    <tr>\n",
              "      <th>1</th>\n",
              "      <td>0.75</td>\n",
              "    </tr>\n",
              "    <tr>\n",
              "      <th>3</th>\n",
              "      <td>0.25</td>\n",
              "    </tr>\n",
              "  </tbody>\n",
              "</table>\n",
              "</div>"
            ],
            "text/plain": [
              "1    0.75\n",
              "3    0.25\n",
              "dtype: float64"
            ]
          },
          "metadata": {
            "tags": []
          },
          "execution_count": 47
        }
      ]
    },
    {
      "cell_type": "markdown",
      "metadata": {
        "id": "r8hv9zLFzzef"
      },
      "source": [
        "75% of the nodes have degree 1; 25% have degree 3.\n",
        "\n",
        "We can visualize the distribution as a histogram:"
      ]
    },
    {
      "cell_type": "code",
      "metadata": {
        "id": "NvZayU-vzzeg",
        "outputId": "4c602254-ba8b-424a-8927-fa50656918c5",
        "colab": {
          "base_uri": "https://localhost:8080/",
          "height": 297
        }
      },
      "source": [
        "pmf.bar()\n",
        "decorate(xlabel='Degree',\n",
        "         ylabel='Pmf')"
      ],
      "execution_count": 48,
      "outputs": [
        {
          "output_type": "display_data",
          "data": {
            "image/png": "[encoded data removed]",
            "text/plain": [
              "<Figure size 432x288 with 1 Axes>"
            ]
          },
          "metadata": {
            "tags": [],
            "needs_background": "light"
          }
        }
      ]
    },
    {
      "cell_type": "markdown",
      "metadata": {
        "id": "z3wHuxIAzzej"
      },
      "source": [
        "And we can use the `Pmf` to compute mean and standard deviation:"
      ]
    },
    {
      "cell_type": "code",
      "metadata": {
        "id": "25I5BHr3zzej",
        "outputId": "aead5a49-862c-46c3-fa60-d1e6a005dd57",
        "colab": {
          "base_uri": "https://localhost:8080/"
        }
      },
      "source": [
        "pmf_fb = Pmf.from_seq(degrees(fb))\n",
        "pmf_fb.mean(), pmf_fb.std()"
      ],
      "execution_count": 49,
      "outputs": [
        {
          "output_type": "execute_result",
          "data": {
            "text/plain": [
              "(43.69101262688785, 52.41411556737521)"
            ]
          },
          "metadata": {
            "tags": []
          },
          "execution_count": 49
        }
      ]
    },
    {
      "cell_type": "code",
      "metadata": {
        "id": "u1pSBgZHzzen",
        "outputId": "52b79322-c474-4263-f9bd-100db6767d3e",
        "colab": {
          "base_uri": "https://localhost:8080/"
        }
      },
      "source": [
        "pmf_ws = Pmf.from_seq(degrees(ws))\n",
        "pmf_ws.mean(), pmf_ws.std()"
      ],
      "execution_count": 50,
      "outputs": [
        {
          "output_type": "execute_result",
          "data": {
            "text/plain": [
              "(44.00000000000001, 1.4309215628189869)"
            ]
          },
          "metadata": {
            "tags": []
          },
          "execution_count": 50
        }
      ]
    },
    {
      "cell_type": "markdown",
      "metadata": {
        "id": "4_l4hgwnzzep"
      },
      "source": [
        "We can also use the `Pmf` to look up the fraction of nodes with exactly 1 neighbor."
      ]
    },
    {
      "cell_type": "code",
      "metadata": {
        "id": "ushGwedczzeq",
        "outputId": "9cdd9e6e-050a-4fe5-d2d5-7ac3d2da6d40",
        "colab": {
          "base_uri": "https://localhost:8080/"
        }
      },
      "source": [
        "pmf_fb[22], pmf_ws[39]"
      ],
      "execution_count": 51,
      "outputs": [
        {
          "output_type": "execute_result",
          "data": {
            "text/plain": [
              "(0.01559792027729636, 0.0002475860361475613)"
            ]
          },
          "metadata": {
            "tags": []
          },
          "execution_count": 51
        }
      ]
    },
    {
      "cell_type": "markdown",
      "metadata": {
        "id": "j99BguHvzzes"
      },
      "source": [
        "Here's what the degree distributions look like for the Facebook data and the WS model.  They don't resemble each other at all."
      ]
    },
    {
      "cell_type": "code",
      "metadata": {
        "id": "Uhj_w-0Uzzes",
        "outputId": "184ad07b-61f8-4be0-89ca-6abb8e156bab",
        "colab": {
          "base_uri": "https://localhost:8080/",
          "height": 297
        }
      },
      "source": [
        "plt.figure(figsize=(8,4))\n",
        "\n",
        "plt.subplot(1,2,1)\n",
        "pmf_fb.plot(label='Facebook', color='C0')\n",
        "decorate(xlabel='Degree', ylabel='PMF')\n",
        "\n",
        "plt.subplot(1,2,2)\n",
        "pmf_ws.plot(label='WS graph', color='C1')\n",
        "decorate(xlabel='Degree')\n",
        "\n",
        "plt.show('figs/chap04-1')"
      ],
      "execution_count": 52,
      "outputs": [
        {
          "output_type": "display_data",
          "data": {
            "image/png": "[encoded data removed]",
            "text/plain": [
              "<Figure size 576x288 with 2 Axes>"
            ]
          },
          "metadata": {
            "tags": [],
            "needs_background": "light"
          }
        }
      ]
    },
    {
      "cell_type": "markdown",
      "metadata": {
        "id": "-I2xAvAfzzev"
      },
      "source": [
        "We can get a better view of the Facebook data by plotting the PMF on a log-log scale.\n",
        "\n",
        "The result suggests that the degree distribution follows a power law, at least for values larger than 10 or so.\n",
        "\n",
        "The log-log scale doesn't help the WS graph."
      ]
    },
    {
      "cell_type": "code",
      "metadata": {
        "id": "EBaTT7brzzev",
        "outputId": "6c18bbaf-fad3-40ea-a2b0-e6da78d577cb",
        "colab": {
          "base_uri": "https://localhost:8080/",
          "height": 297
        }
      },
      "source": [
        "plt.figure(figsize=(8,4))\n",
        "options = dict(ls='', marker='.')\n",
        "\n",
        "plt.subplot(1,2,1)\n",
        "plt.plot([20, 1000], [5e-2, 2e-4], color='gray', linestyle='dashed')\n",
        "\n",
        "pmf_fb.plot(label='Facebook', color='C0', **options)\n",
        "decorate(xscale='log', yscale='log',\n",
        "         xlabel='Degree', ylabel='PMF')\n",
        "\n",
        "plt.subplot(1,2,2)\n",
        "pmf_ws.plot(label='WS graph', color='C1', **options)\n",
        "decorate(xlim=[35, 55], \n",
        "         xscale='log', yscale='log',\n",
        "         xlabel='Degree')\n",
        "\n",
        "plt.show('figs/chap04-2')"
      ],
      "execution_count": 53,
      "outputs": [
        {
          "output_type": "display_data",
          "data": {
            "image/png": "[encoded data removed]",
            "text/plain": [
              "<Figure size 576x288 with 2 Axes>"
            ]
          },
          "metadata": {
            "tags": [],
            "needs_background": "light"
          }
        }
      ]
    },
    {
      "cell_type": "markdown",
      "metadata": {
        "id": "sDufsNvRzzez"
      },
      "source": [
        "The discrepancy between the actual degree distribution and the WS model is the motivation for the BA model."
      ]
    },
    {
      "cell_type": "markdown",
      "metadata": {
        "id": "Y8Um0oUuzze0"
      },
      "source": [
        "## BA model"
      ]
    },
    {
      "cell_type": "markdown",
      "metadata": {
        "id": "cbGpI24izze0"
      },
      "source": [
        "Here's a simplified version of the NetworkX function that generates BA graphs."
      ]
    },
    {
      "cell_type": "code",
      "metadata": {
        "id": "HAApteOvzze0"
      },
      "source": [
        "# modified version of the NetworkX implementation from\n",
        "# https://github.com/networkx/networkx/blob/master/networkx/generators/random_graphs.py\n",
        "\n",
        "import random\n",
        "\n",
        "def barabasi_albert_graph(n, k, seed=None):\n",
        "    \"\"\"Constructs a BA graph.\n",
        "    \n",
        "    n: number of nodes\n",
        "    k: number of edges for each new node\n",
        "    seed: random seen\n",
        "    \"\"\"\n",
        "    if seed is not None:\n",
        "        random.seed(seed)\n",
        "    \n",
        "    G = nx.empty_graph(k)\n",
        "    targets = set(range(k))\n",
        "    repeated_nodes = []\n",
        "\n",
        "    for source in range(k, n):\n",
        "\n",
        "        G.add_edges_from(zip([source]*k, targets))\n",
        "\n",
        "        repeated_nodes.extend(targets)\n",
        "        repeated_nodes.extend([source] * k)\n",
        "\n",
        "        targets = _random_subset(repeated_nodes, k)\n",
        "\n",
        "    return G"
      ],
      "execution_count": 54,
      "outputs": []
    },
    {
      "cell_type": "markdown",
      "metadata": {
        "id": "R08oUcFmzze2"
      },
      "source": [
        "And here's the function that generates a random subset without repetition."
      ]
    },
    {
      "cell_type": "code",
      "metadata": {
        "id": "4UMY3VfHzze2"
      },
      "source": [
        "def _random_subset(repeated_nodes, k):\n",
        "    \"\"\"Select a random subset of nodes without repeating.\n",
        "    \n",
        "    repeated_nodes: list of nodes\n",
        "    k: size of set\n",
        "    \n",
        "    returns: set of nodes\n",
        "    \"\"\"\n",
        "    targets = set()\n",
        "    while len(targets) < k:\n",
        "        x = random.choice(repeated_nodes)\n",
        "        targets.add(x)\n",
        "    return targets"
      ],
      "execution_count": 55,
      "outputs": []
    },
    {
      "cell_type": "markdown",
      "metadata": {
        "id": "SdkBJ3Qvzze5"
      },
      "source": [
        "I'll generate a BA graph with the same number of nodes and edges as the Facebook data:"
      ]
    },
    {
      "cell_type": "code",
      "metadata": {
        "id": "fXaciyh9zze5",
        "outputId": "7829e1c6-ab2a-4679-8ef9-dbab0ecfdadd",
        "colab": {
          "base_uri": "https://localhost:8080/"
        }
      },
      "source": [
        "n = len(fb)\n",
        "m = len(fb.edges())\n",
        "k = int(round(m/n))\n",
        "n, m, k"
      ],
      "execution_count": 56,
      "outputs": [
        {
          "output_type": "execute_result",
          "data": {
            "text/plain": [
              "(4039, 88234, 22)"
            ]
          },
          "metadata": {
            "tags": []
          },
          "execution_count": 56
        }
      ]
    },
    {
      "cell_type": "markdown",
      "metadata": {
        "id": "4nw_Myl5zze7"
      },
      "source": [
        "Providing a random seed means we'll get the same graph every time."
      ]
    },
    {
      "cell_type": "code",
      "metadata": {
        "id": "T1w5lo0ozze8"
      },
      "source": [
        "ba = barabasi_albert_graph(n, k, seed=15)"
      ],
      "execution_count": 57,
      "outputs": []
    },
    {
      "cell_type": "markdown",
      "metadata": {
        "id": "oX0wsky9zze_"
      },
      "source": [
        "The number of edges is pretty close to what we asked for."
      ]
    },
    {
      "cell_type": "code",
      "metadata": {
        "id": "duQzMpDWzzfA",
        "outputId": "6721552e-9ae8-4d06-959f-48cea541d08d",
        "colab": {
          "base_uri": "https://localhost:8080/"
        }
      },
      "source": [
        "len(ba), len(ba.edges()), len(ba.edges())/len(ba)"
      ],
      "execution_count": 58,
      "outputs": [
        {
          "output_type": "execute_result",
          "data": {
            "text/plain": [
              "(4039, 88374, 21.88016835850458)"
            ]
          },
          "metadata": {
            "tags": []
          },
          "execution_count": 58
        }
      ]
    },
    {
      "cell_type": "markdown",
      "metadata": {
        "id": "naI9aPzwzzfD"
      },
      "source": [
        "So the mean degree is about right."
      ]
    },
    {
      "cell_type": "code",
      "metadata": {
        "id": "x7ysSSi9zzfD",
        "outputId": "47493cc0-379a-412a-91eb-c4efa498f41e",
        "colab": {
          "base_uri": "https://localhost:8080/"
        }
      },
      "source": [
        "np.mean(degrees(fb)), np.mean(degrees(ba))"
      ],
      "execution_count": 59,
      "outputs": [
        {
          "output_type": "execute_result",
          "data": {
            "text/plain": [
              "(43.69101262688784, 43.76033671700916)"
            ]
          },
          "metadata": {
            "tags": []
          },
          "execution_count": 59
        }
      ]
    },
    {
      "cell_type": "markdown",
      "metadata": {
        "id": "dagJ8kAazzfI"
      },
      "source": [
        "The standard deviation of degree is pretty close, and much better than the WS model."
      ]
    },
    {
      "cell_type": "code",
      "metadata": {
        "id": "IByqrNpazzfJ",
        "outputId": "882a9fb6-4f63-4445-ad45-e0e75a1c3709",
        "colab": {
          "base_uri": "https://localhost:8080/"
        }
      },
      "source": [
        "np.std(degrees(fb)), np.std(degrees(ba))"
      ],
      "execution_count": 60,
      "outputs": [
        {
          "output_type": "execute_result",
          "data": {
            "text/plain": [
              "(52.41411556737521, 41.15058490188548)"
            ]
          },
          "metadata": {
            "tags": []
          },
          "execution_count": 60
        }
      ]
    },
    {
      "cell_type": "markdown",
      "metadata": {
        "id": "gqi-ORRRzzfL"
      },
      "source": [
        "Let's take a look at the degree distribution."
      ]
    },
    {
      "cell_type": "code",
      "metadata": {
        "id": "ctKMv0sazzfM"
      },
      "source": [
        "pmf_ba = Pmf.from_seq(degrees(ba))"
      ],
      "execution_count": 61,
      "outputs": []
    },
    {
      "cell_type": "markdown",
      "metadata": {
        "id": "9HuN0dFHzzfO"
      },
      "source": [
        "Looking at the PMFs on a linear scale, we see one difference, which is that the BA model has no nodes with degree less than `k`, which is 22."
      ]
    },
    {
      "cell_type": "code",
      "metadata": {
        "id": "JFirHsiXzzfO",
        "outputId": "6e4ca9e3-343f-4658-b2e6-0b7d28abe73b",
        "colab": {
          "base_uri": "https://localhost:8080/",
          "height": 0
        }
      },
      "source": [
        "plt.figure(figsize=(8,4))\n",
        "\n",
        "plt.subplot(1,2,1)\n",
        "pmf_fb.plot(label='Facebook', color='C0')\n",
        "decorate(xlabel='Degree', ylabel='PMF')\n",
        "\n",
        "plt.subplot(1,2,2)\n",
        "pmf_ba.plot(label='BA graph', color='C2')\n",
        "decorate(xlabel='Degree')"
      ],
      "execution_count": 62,
      "outputs": [
        {
          "output_type": "display_data",
          "data": {
            "image/png": "[encoded data removed]",
            "text/plain": [
              "<Figure size 576x288 with 2 Axes>"
            ]
          },
          "metadata": {
            "tags": [],
            "needs_background": "light"
          }
        }
      ]
    },
    {
      "cell_type": "markdown",
      "metadata": {
        "id": "AtZDXSu0zzfQ"
      },
      "source": [
        "But if we look at the PMF on a log-log scale, the BA model looks pretty good for values bigger than about 20.  And it seems to follow a power law."
      ]
    },
    {
      "cell_type": "code",
      "metadata": {
        "id": "2RcbOoIszzfQ",
        "outputId": "8b3b610b-26b5-4f65-dfec-37092d9ecb3c",
        "colab": {
          "base_uri": "https://localhost:8080/",
          "height": 0
        }
      },
      "source": [
        "plt.figure(figsize=(8,4))\n",
        "options = dict(ls='', marker='.')\n",
        "\n",
        "plt.subplot(1,2,1)\n",
        "\n",
        "pmf_fb.plot(label='Facebook', color='C0', **options)\n",
        "decorate(xlabel='Degree', ylabel='PMF',\n",
        "         xscale='log', yscale='log')\n",
        "\n",
        "plt.subplot(1,2,2)\n",
        "\n",
        "pmf_ba.plot(label='BA model', color='C2', **options)\n",
        "decorate(xlabel='Degree',\n",
        "         xlim=[1, 1e4],\n",
        "         xscale='log', yscale='log')\n",
        "\n",
        "plt.show('figs/chap04-3')"
      ],
      "execution_count": 63,
      "outputs": [
        {
          "output_type": "display_data",
          "data": {
            "image/png": "[encoded data removed]",
            "text/plain": [
              "<Figure size 576x288 with 2 Axes>"
            ]
          },
          "metadata": {
            "tags": [],
            "needs_background": "light"
          }
        }
      ]
    },
    {
      "cell_type": "markdown",
      "metadata": {
        "id": "YY2oVtKMzzfS"
      },
      "source": [
        "The characteristic path length is even smaller in the model than in the data."
      ]
    },
    {
      "cell_type": "code",
      "metadata": {
        "id": "787TsRuRzzfS",
        "outputId": "c01adfca-0794-47ab-dd00-e4ab4e5aae1e",
        "colab": {
          "base_uri": "https://localhost:8080/"
        }
      },
      "source": [
        "L, estimate_path_length(ba)"
      ],
      "execution_count": 64,
      "outputs": [
        {
          "output_type": "execute_result",
          "data": {
            "text/plain": [
              "(3.717, 2.501)"
            ]
          },
          "metadata": {
            "tags": []
          },
          "execution_count": 64
        }
      ]
    },
    {
      "cell_type": "markdown",
      "metadata": {
        "id": "FMIoWr7JzzfX"
      },
      "source": [
        "But the clustering coefficient isn't even close."
      ]
    },
    {
      "cell_type": "code",
      "metadata": {
        "id": "PgBqfp60zzfX",
        "outputId": "d853cb50-d014-4779-de18-d197b1e21bec",
        "colab": {
          "base_uri": "https://localhost:8080/"
        }
      },
      "source": [
        "C, average_clustering(ba)"
      ],
      "execution_count": 65,
      "outputs": [
        {
          "output_type": "execute_result",
          "data": {
            "text/plain": [
              "(0.612, 0.031)"
            ]
          },
          "metadata": {
            "tags": []
          },
          "execution_count": 65
        }
      ]
    },
    {
      "cell_type": "markdown",
      "metadata": {
        "id": "dLaWELJ1zzfZ"
      },
      "source": [
        "In the BA model, the degree distribution is better than in the WS model, but the clustering coefficient is too low."
      ]
    },
    {
      "cell_type": "markdown",
      "metadata": {
        "id": "5Hb44lj1zzfa"
      },
      "source": [
        "## Cumulative distributions"
      ]
    },
    {
      "cell_type": "markdown",
      "metadata": {
        "id": "eViVStwuzzfb"
      },
      "source": [
        "Cumulative distributions are a better way to visualize distributions.  The following function shows what a cumulative probability is:"
      ]
    },
    {
      "cell_type": "code",
      "metadata": {
        "id": "-GNUfwrJzzfb"
      },
      "source": [
        "def cumulative_prob(pmf, x):\n",
        "    \"\"\"Computes the cumulative probability of `x`.\n",
        "    \n",
        "    Total probability of all values <= x.\n",
        "    \n",
        "    returns: float probability\n",
        "    \"\"\"\n",
        "    ps = [pmf[value] for value in pmf.qs if value<=x]\n",
        "    return np.sum(ps)"
      ],
      "execution_count": 66,
      "outputs": []
    },
    {
      "cell_type": "markdown",
      "metadata": {
        "id": "G1Ifo78wzzfe"
      },
      "source": [
        "The total probability for all values up to and including 11 is 0.258, so the 25th percentile is about 11."
      ]
    },
    {
      "cell_type": "code",
      "metadata": {
        "id": "po2GHWsazzfe",
        "outputId": "215d421a-270b-49d1-941e-6ac8af955a59",
        "colab": {
          "base_uri": "https://localhost:8080/"
        }
      },
      "source": [
        "cumulative_prob(pmf_fb, 11)"
      ],
      "execution_count": 67,
      "outputs": [
        {
          "output_type": "execute_result",
          "data": {
            "text/plain": [
              "0.2577370636296113"
            ]
          },
          "metadata": {
            "tags": []
          },
          "execution_count": 67
        }
      ]
    },
    {
      "cell_type": "markdown",
      "metadata": {
        "id": "j3Kh7F-pzzfj"
      },
      "source": [
        "The median degree is about 25."
      ]
    },
    {
      "cell_type": "code",
      "metadata": {
        "id": "XoBUzd4Jzzfk",
        "outputId": "76a43097-153a-44f9-81b8-aad8f2958187",
        "colab": {
          "base_uri": "https://localhost:8080/"
        }
      },
      "source": [
        "cumulative_prob(pmf_fb, 25)"
      ],
      "execution_count": 68,
      "outputs": [
        {
          "output_type": "execute_result",
          "data": {
            "text/plain": [
              "0.5060658578856152"
            ]
          },
          "metadata": {
            "tags": []
          },
          "execution_count": 68
        }
      ]
    },
    {
      "cell_type": "markdown",
      "metadata": {
        "id": "gAcNZJ1Rzzfo"
      },
      "source": [
        "And the 75th percentile is about 57.  That is, about 75% of users have 57 friends or fewer."
      ]
    },
    {
      "cell_type": "code",
      "metadata": {
        "id": "PS-cy1Yszzfo",
        "outputId": "f01460c8-debd-41e2-864d-f1f91d8e0871",
        "colab": {
          "base_uri": "https://localhost:8080/"
        }
      },
      "source": [
        "cumulative_prob(pmf_fb, 57)"
      ],
      "execution_count": 69,
      "outputs": [
        {
          "output_type": "execute_result",
          "data": {
            "text/plain": [
              "0.751671205743996"
            ]
          },
          "metadata": {
            "tags": []
          },
          "execution_count": 69
        }
      ]
    },
    {
      "cell_type": "markdown",
      "metadata": {
        "id": "sVmWqtPlzzfq"
      },
      "source": [
        "`empiricaldist` provides `Cdf`, which computes cumulative distribution functions."
      ]
    },
    {
      "cell_type": "code",
      "metadata": {
        "id": "XskT9wcdzzfq"
      },
      "source": [
        "from empiricaldist import Cdf"
      ],
      "execution_count": 70,
      "outputs": []
    },
    {
      "cell_type": "markdown",
      "metadata": {
        "id": "55FiAIFTzzft"
      },
      "source": [
        "Here are the degree CDFs for the Facebook data, the WS model, and the BA model."
      ]
    },
    {
      "cell_type": "code",
      "metadata": {
        "id": "zoi46vmmzzft"
      },
      "source": [
        "cdf_fb = Cdf.from_seq(degrees(fb), name='Facebook')"
      ],
      "execution_count": 71,
      "outputs": []
    },
    {
      "cell_type": "code",
      "metadata": {
        "id": "7xbusMZTzzfu"
      },
      "source": [
        "cdf_ws = Cdf.from_seq(degrees(ws), name='WS model')"
      ],
      "execution_count": 72,
      "outputs": []
    },
    {
      "cell_type": "code",
      "metadata": {
        "id": "khKDYvohzzfw"
      },
      "source": [
        "cdf_ba = Cdf.from_seq(degrees(ba), name='BA model')"
      ],
      "execution_count": 73,
      "outputs": []
    },
    {
      "cell_type": "markdown",
      "metadata": {
        "id": "n4fj_Ranzzfy"
      },
      "source": [
        "If we plot them on a log-x scale, we get a sense of how well the models fit the central part of the distribution.\n",
        "\n",
        "The WS model is hopeless.  The BA model is ok for values above the median, but not very good for smaller values."
      ]
    },
    {
      "cell_type": "code",
      "metadata": {
        "id": "hBZ8Soy1zzfy",
        "outputId": "dc2e14ad-e42f-4453-d389-e175d12c97b7",
        "colab": {
          "base_uri": "https://localhost:8080/",
          "height": 0
        }
      },
      "source": [
        "plt.figure(figsize=(8,4))\n",
        "\n",
        "plt.subplot(1,2,1)\n",
        "cdf_fb.plot(color='C0')\n",
        "cdf_ws.plot(color='C1', alpha=0.4)\n",
        "decorate(xlabel='Degree', xscale='log',\n",
        "                 ylabel='CDF')\n",
        "\n",
        "plt.subplot(1,2,2)\n",
        "cdf_fb.plot(color='C0', label='Facebook')\n",
        "cdf_ba.plot(color='C2', alpha=0.4)\n",
        "decorate(xlabel='Degree', xscale='log')\n",
        "\n",
        "plt.show('figs/chap04-4')"
      ],
      "execution_count": 74,
      "outputs": [
        {
          "output_type": "display_data",
          "data": {
            "image/png": "[encoded data removed]",
            "text/plain": [
              "<Figure size 576x288 with 2 Axes>"
            ]
          },
          "metadata": {
            "tags": [],
            "needs_background": "light"
          }
        }
      ]
    },
    {
      "cell_type": "markdown",
      "metadata": {
        "id": "AXGVaS4bzzf1"
      },
      "source": [
        "On a log-log scale, we see that the BA model fits the tail of the distribution reasonably well."
      ]
    },
    {
      "cell_type": "code",
      "metadata": {
        "id": "6u6wLQrJzzf1",
        "outputId": "dbb54321-0911-4241-dbae-be381cca0732",
        "colab": {
          "base_uri": "https://localhost:8080/",
          "height": 0
        }
      },
      "source": [
        "plt.figure(figsize=(8,4))\n",
        "\n",
        "plt.subplot(1,2,1)\n",
        "(1 - cdf_fb).plot(color='C0')\n",
        "(1 - cdf_ws).plot(color='C1', alpha=0.4)\n",
        "decorate(xlabel='Degree', xscale='log',\n",
        "                 ylabel='CCDF', yscale='log')\n",
        "\n",
        "plt.subplot(1,2,2)\n",
        "\n",
        "(1 - cdf_fb).plot(color='C0', label='Facebook')\n",
        "(1 - cdf_ba).plot(color='C2', alpha=0.4)\n",
        "decorate(xlabel='Degree', xscale='log',\n",
        "                 yscale='log')\n",
        "\n",
        "plt.show('figs/chap04-5')"
      ],
      "execution_count": 75,
      "outputs": [
        {
          "output_type": "display_data",
          "data": {
            "image/png": "[encoded data removed]",
            "text/plain": [
              "<Figure size 576x288 with 2 Axes>"
            ]
          },
          "metadata": {
            "tags": [],
            "needs_background": "light"
          }
        }
      ]
    },
    {
      "cell_type": "markdown",
      "metadata": {
        "id": "R7DYV1_Dzzf6"
      },
      "source": [
        "But there is certainly room for a model that does a better job of fitting the whole distribution."
      ]
    },
    {
      "cell_type": "markdown",
      "metadata": {
        "id": "0h4Uc28lzzf7"
      },
      "source": [
        "## Exercises"
      ]
    },
    {
      "cell_type": "markdown",
      "metadata": {
        "id": "G9vsvXAXzzf7"
      },
      "source": [
        "**Exercise:** Data files from the Barabasi and Albert paper are available from\n",
        "actor data.\n",
        "\n",
        "Their actor collaboration data is included in the repository for this book in a file named\n",
        "`actor.dat.gz`.  The following function reads the file and builds the graph."
      ]
    },
    {
      "cell_type": "code",
      "metadata": {
        "id": "2eey3yakzzf7"
      },
      "source": [
        "import gzip\n",
        "\n",
        "def read_actor_network(filename, n=None):\n",
        "    \"\"\"Reads graph data from a file.\n",
        "    \n",
        "    filename: string\n",
        "    n: int, number of lines to read (default is all)\n",
        "    \"\"\"\n",
        "    G = nx.Graph()\n",
        "    with gzip.open(filename) as f:\n",
        "        for i, line in enumerate(f):\n",
        "            nodes = [int(x) for x in line.split()]\n",
        "            G.add_edges_from(all_pairs(nodes))\n",
        "            if n and i >= n:\n",
        "                break\n",
        "    return G\n",
        "\n",
        "def all_pairs(nodes):\n",
        "    \"\"\"Generates all pairs of nodes.\"\"\"\n",
        "    for i, u in enumerate(nodes):\n",
        "        for j, v in enumerate(nodes):\n",
        "            if i < j:\n",
        "                yield u, v"
      ],
      "execution_count": 76,
      "outputs": []
    },
    {
      "cell_type": "markdown",
      "metadata": {
        "id": "_UZM6uzKzzf-"
      },
      "source": [
        "Compute the number of actors in the graph and the number of edges.\n",
        "\n",
        "Check whether this graph has the small world properties, high clustering and low\n",
        "path length.\n",
        "\n",
        "Plot the PMF of degree on a log-log scale.  Does it seem to follow a power law?\n",
        "\n",
        "Also plot the CDF of degree on a log-x scale, to \n",
        "see the general shape of the distribution, and on a log-log scale, to see whether \n",
        "the tail follows a power law.\n",
        "\n",
        "Note: The actor network is not connected, so you might want to use\n",
        "`nx.connected_components` to find connected subsets of the\n",
        "nodes."
      ]
    },
    {
      "cell_type": "code",
      "metadata": {
        "tags": [],
        "id": "OR1nbyGDzzf-",
        "outputId": "1208a898-cc06-4eb5-c4e5-27c26dff2ea7",
        "colab": {
          "base_uri": "https://localhost:8080/"
        }
      },
      "source": [
        "# WARNING: if you run this with larger values of `n`, you\n",
        "# might run out of memory, and Jupyter does not handle that well.\n",
        "\n",
        "%time actors = read_actor_network('complex-colab/data/actor.dat.gz', n=10000)\n",
        "len(actors)"
      ],
      "execution_count": 77,
      "outputs": [
        {
          "output_type": "stream",
          "text": [
            "CPU times: user 895 ms, sys: 97.1 ms, total: 992 ms\n",
            "Wall time: 1.01 s\n"
          ],
          "name": "stdout"
        },
        {
          "output_type": "execute_result",
          "data": {
            "text/plain": [
              "17540"
            ]
          },
          "metadata": {
            "tags": []
          },
          "execution_count": 77
        }
      ]
    },
    {
      "cell_type": "code",
      "metadata": {
        "id": "ejxEmv67zzgB"
      },
      "source": [
        "# Solution goes here"
      ],
      "execution_count": 78,
      "outputs": []
    },
    {
      "cell_type": "code",
      "metadata": {
        "id": "aT7vWac3zzgC"
      },
      "source": [
        "# Solution goes here"
      ],
      "execution_count": 79,
      "outputs": []
    },
    {
      "cell_type": "code",
      "metadata": {
        "id": "K0dTxfTYzzgE"
      },
      "source": [
        "# Solution goes here"
      ],
      "execution_count": 80,
      "outputs": []
    },
    {
      "cell_type": "code",
      "metadata": {
        "id": "Uwbq4Yc8zzgF"
      },
      "source": [
        "# Solution goes here"
      ],
      "execution_count": 81,
      "outputs": []
    },
    {
      "cell_type": "code",
      "metadata": {
        "id": "-pY0sBZTzzgH"
      },
      "source": [
        "# Solution goes here"
      ],
      "execution_count": 82,
      "outputs": []
    },
    {
      "cell_type": "code",
      "metadata": {
        "id": "h5YS7x5tzzgJ"
      },
      "source": [
        "# Solution goes here"
      ],
      "execution_count": 83,
      "outputs": []
    },
    {
      "cell_type": "code",
      "metadata": {
        "id": "7pSQI4tYzzgM"
      },
      "source": [
        "# Solution goes here"
      ],
      "execution_count": 84,
      "outputs": []
    },
    {
      "cell_type": "markdown",
      "metadata": {
        "id": "eHlSVphqzzgO"
      },
      "source": [
        "**Exercise:** NetworkX provides a function called `powerlaw_cluster_graph` that implements the \"Holme and Kim algorithm for growing graphs with powerlaw degree distribution and approximate average clustering\".  Read the documentation of this function and see if you can use it to generate a graph that has the same number of nodes as the Facebook network, the same average degree, and the same clustering coefficient.  How does the degree distribution in the model compare to the actual distribution?"
      ]
    },
    {
      "cell_type": "code",
      "metadata": {
        "id": "-Bs04TexzzgO"
      },
      "source": [
        "# Solution goes here"
      ],
      "execution_count": 85,
      "outputs": []
    },
    {
      "cell_type": "code",
      "metadata": {
        "id": "TmBaaEw6zzgP"
      },
      "source": [
        "# Solution goes here"
      ],
      "execution_count": 86,
      "outputs": []
    },
    {
      "cell_type": "code",
      "metadata": {
        "id": "ksOX61fszzgT"
      },
      "source": [
        "# Solution goes here"
      ],
      "execution_count": 87,
      "outputs": []
    },
    {
      "cell_type": "code",
      "metadata": {
        "id": "E8eKIt9izzgV"
      },
      "source": [
        "# Solution goes here"
      ],
      "execution_count": 88,
      "outputs": []
    },
    {
      "cell_type": "code",
      "metadata": {
        "id": "qC_F4ZcUzzgd"
      },
      "source": [
        "# Solution goes here"
      ],
      "execution_count": 89,
      "outputs": []
    },
    {
      "cell_type": "code",
      "metadata": {
        "id": "SqgTRUQRzzgg"
      },
      "source": [
        "# Solution goes here"
      ],
      "execution_count": 90,
      "outputs": []
    },
    {
      "cell_type": "code",
      "metadata": {
        "id": "3vNqHMP5zzgi"
      },
      "source": [
        "# Solution goes here"
      ],
      "execution_count": 91,
      "outputs": []
    },
    {
      "cell_type": "code",
      "metadata": {
        "id": "voG7ggRDzzgm"
      },
      "source": [
        "# Solution goes here"
      ],
      "execution_count": 92,
      "outputs": []
    },
    {
      "cell_type": "code",
      "metadata": {
        "id": "CWHJev7Izzgq"
      },
      "source": [
        ""
      ],
      "execution_count": 92,
      "outputs": []
    }
  ]
}